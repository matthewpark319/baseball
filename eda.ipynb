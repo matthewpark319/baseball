{
 "cells": [
  {
   "cell_type": "code",
   "execution_count": 181,
   "id": "212f5214",
   "metadata": {},
   "outputs": [],
   "source": [
    "import itertools\n",
    "import os\n",
    "\n",
    "import numpy as np\n",
    "import pandas as pd\n",
    "\n",
    "# column descriptions from https://www.retrosheet.org/gamelogs/glfields.txt\n",
    "offensive_stats = ['AB', 'H', '2B', '3B', 'HR', 'RBI', 'SAC', 'SAC_FLY', 'HBP', 'BB', 'IBB', 'K', 'SB', 'CS', 'GDP', 'CI', 'LOB']\n",
    "pitching_stats = ['pitchers_used', 'indv_earned_runs', 'team_earned_runs', 'wild_pitches', 'balks']\n",
    "defensive_stats = ['putouts', 'assists', 'errors', 'passed_balls', 'double_plays', 'triple_plays']\n",
    "roles = ['home_plate_ump', '1B_ump', '2B_ump', '3B_ump', 'LF_ump', 'RF_ump', 'away_manager', 'home_manager',\n",
    "         'winning_pitcher', 'losing_pitcher', 'saving_pitcher', 'winning_rbi_batter', 'away_starting_pitcher', 'home_starting_pitcher']\n",
    "columns = [\n",
    "    'date',\n",
    "    'series_game_num',\n",
    "    'dow',\n",
    "    'away_team',\n",
    "    'away_team_league',\n",
    "    'away_team_game_num',\n",
    "    'home_team',\n",
    "    'home_team_league',\n",
    "    'home_team_game_num',\n",
    "    'score_away',\n",
    "    'score_home',\n",
    "    'count_outs',\n",
    "    'day_or_night',\n",
    "    'makeup_info',\n",
    "    'forfeit_info',\n",
    "    'protest_info',\n",
    "    'park_id',\n",
    "    'attendance',\n",
    "    'length_minutes',\n",
    "    'away_line_score',\n",
    "    'home_line_score',\n",
    "    *['away_' + offensive_stat for offensive_stat in offensive_stats],\n",
    "    *['away_' + pitching_stat for pitching_stat in pitching_stats],\n",
    "    *['away_' + defensive_stat for defensive_stat in defensive_stats],\n",
    "    *['home_' + offensive_stat for offensive_stat in offensive_stats],\n",
    "    *['home_' + pitching_stat for pitching_stat in pitching_stats],\n",
    "    *['home_' + defensive_stat for defensive_stat in defensive_stats],\n",
    "    *list(itertools.chain.from_iterable([[role + '_id', role + '_name'] for role in roles])),\n",
    "    *list(itertools.chain.from_iterable([[f'away_lineup{i}_id', f'away_lineup{i}_name', f'away_lineup{i}_pos'] for i in range(1, 10)])),\n",
    "    *list(itertools.chain.from_iterable([[f'home_lineup{i}_id', f'home_lineup{i}_name', f'home_lineup{i}_pos'] for i in range(1, 10)])),\n",
    "    'misc',\n",
    "    'acquisition_info'\n",
    "]\n",
    "\n",
    "def file_to_df(fn):\n",
    "    df = pd.read_csv(fn, header=None, names=columns)\n",
    "    df['date'] = pd.to_datetime(df['date'], format='%Y%m%d')\n",
    "    df['year'] = df['date'].dt.year\n",
    "    df['home_won'] = df['score_home'] > df['score_away']\n",
    "    return df\n",
    "\n",
    "def opposite_side(side):\n",
    "    return 'home' if side == 'away' else 'away'\n",
    "\n",
    "dfs = []\n",
    "for fn in os.listdir('data'):\n",
    "    year_df = file_to_df(f'data/{fn}')\n",
    "    dfs.append(year_df)\n",
    "    \n",
    "df = pd.concat(dfs).sort_values(['date', 'home_team_game_num'])"
   ]
  },
  {
   "cell_type": "code",
   "execution_count": 268,
   "id": "9c576a8f",
   "metadata": {},
   "outputs": [],
   "source": [
    "def build_features(year_to_test):\n",
    "    one_year = df.loc[df['year'] == year_to_test]\n",
    "\n",
    "    side_games_dfs = []\n",
    "    for side in ['home', 'away']:\n",
    "        side_games = one_year.copy()\n",
    "        side_games['won'] = one_year['home_won'] if side == 'home' else ~one_year['home_won']\n",
    "        side_games['team'] = one_year[f'{side}_team']\n",
    "        side_games['game_num'] = one_year[f'{side}_team_game_num'] + 1 # win pct = pct before game_num, to avoid lookahead bias\n",
    "        side_games['score_for'] = one_year[f'score_{side}']\n",
    "        side_games['score_against'] = one_year[f'score_{opposite_side(side)}']\n",
    "        side_games_dfs.append(side_games)\n",
    "\n",
    "    team_games = pd.concat(side_games_dfs).sort_values(['team', 'game_num'])\n",
    "\n",
    "    tmp = team_games.pivot(columns='team', values='won', index='game_num').cumsum()\n",
    "    team_wins = tmp.divide(tmp.index.values, axis='rows').unstack().rename('win_pct')\n",
    "\n",
    "    team_runs_for = team_games.pivot(columns='team', values='score_for', index='game_num').cumsum().unstack()\n",
    "    team_avg_score_for = (team_runs_for / team_runs_for.index.get_level_values(1) - 1).rename('avg_score_for')\n",
    "\n",
    "    team_runs_against = team_games.pivot(columns='team', values='score_against', index='game_num').cumsum().unstack()\n",
    "    team_avg_score_against = (team_runs_against / team_runs_against.index.get_level_values(1) - 1).rename('avg_score_against')\n",
    "\n",
    "    team_era = (team_runs_against / (team_runs_against.index.get_level_values(1) - 1)).rename('era')\n",
    "\n",
    "    team_pythag = ((team_avg_score_for * (team_avg_score_for.index.get_level_values(1) - 1))**1.83 / (\n",
    "        (team_avg_score_for * (team_avg_score_for.index.get_level_values(1) - 1))**1.83\n",
    "        + (team_avg_score_against * (team_avg_score_against.index.get_level_values(1) - 1))**1.83\n",
    "    )).rename('pythag')\n",
    "    team_stats = pd.concat([\n",
    "        team_wins, team_avg_score_for, team_avg_score_against, team_pythag, team_era\n",
    "    ], axis='columns').reset_index()\n",
    "\n",
    "    tmp = pd.merge(\n",
    "        one_year[['date', 'home_team', 'away_team', 'home_team_game_num', 'away_team_game_num', 'home_won']],\n",
    "        team_stats.rename(columns={col: 'home_team' if col == 'team' else f'home_team_{col}' for col in team_stats.columns}),\n",
    "        on=['home_team', 'home_team_game_num']\n",
    "    )\n",
    "    games = pd.merge(\n",
    "        tmp,\n",
    "        team_stats.rename(columns={col: 'away_team' if col == 'team' else f'away_team_{col}' for col in team_stats.columns}),\n",
    "        on=['away_team', 'away_team_game_num']\n",
    "    ).sort_values(['date', 'home_team_game_num'])\n",
    "\n",
    "    games['log5'] = ((games['home_team_win_pct'] - (games['home_team_win_pct'] * games['away_team_win_pct'])) / (\n",
    "        games['home_team_win_pct'] + games['away_team_win_pct'] - (2 * games['home_team_win_pct'] * games['away_team_win_pct'])\n",
    "    ).replace(0, 1)).astype(float)\n",
    "    games['pythag'] = games['home_team_pythag'] - games['away_team_pythag']\n",
    "\n",
    "#     games['pred_score_home'] = np.sqrt(games['home_team_avg_score_for'] * games['away_team_avg_score_against'])\n",
    "#     games['pred_score_away'] = np.sqrt(games['away_team_avg_score_for'] * games['home_team_avg_score_against'])\n",
    "#     games['pred_score_diff'] = games['pred_score_home'] - games['pred_score_away']\n",
    "    games['era_diff'] = games['home_team_era'] - games['away_team_era']   \n",
    "    return games[games['home_team_game_num'] > 10]"
   ]
  },
  {
   "cell_type": "code",
   "execution_count": 273,
   "id": "ddfc32ee",
   "metadata": {},
   "outputs": [
    {
     "name": "stderr",
     "output_type": "stream",
     "text": [
      "/home/mpark/.local/lib/python3.8/site-packages/pandas/core/arraylike.py:364: RuntimeWarning: invalid value encountered in sqrt\n",
      "  result = getattr(ufunc, method)(*inputs, **kwargs)\n",
      "/tmp/ipykernel_116/3459252499.py:12: SettingWithCopyWarning: \n",
      "A value is trying to be set on a copy of a slice from a DataFrame.\n",
      "Try using .loc[row_indexer,col_indexer] = value instead\n",
      "\n",
      "See the caveats in the documentation: https://pandas.pydata.org/pandas-docs/stable/user_guide/indexing.html#returning-a-view-versus-a-copy\n",
      "  train['pred'] = model.predict(train.loc[:,features])\n"
     ]
    },
    {
     "data": {
      "text/plain": [
       "0.5588511749347258"
      ]
     },
     "execution_count": 273,
     "metadata": {},
     "output_type": "execute_result"
    }
   ],
   "source": [
    "from sklearn.linear_model import LogisticRegression\n",
    "from sklearn.ensemble import RandomForestClassifier\n",
    "\n",
    "games = pd.concat([build_features(year) for year in range(2000, 2020)], ignore_index=True)\n",
    "features = ['log5', 'pythag', 'era_diff']\n",
    "train_size = 5000\n",
    "\n",
    "model = LogisticRegression()\n",
    "model.fit(games.loc[:train_size, features], games.loc[:train_size, 'home_won'])\n",
    "\n",
    "train = games.loc[train_size + 1 : games.shape[0] + 1]\n",
    "train['pred'] = model.predict(train.loc[:,features])\n",
    "(train['pred'] == train['home_won']).sum() / train.shape[0] "
   ]
  },
  {
   "cell_type": "code",
   "execution_count": 278,
   "id": "b8c5586d",
   "metadata": {},
   "outputs": [
    {
     "data": {
      "text/plain": [
       "0      13\n",
       "1       6\n",
       "2       7\n",
       "3      13\n",
       "4       7\n",
       "       ..\n",
       "893     6\n",
       "894    10\n",
       "895     9\n",
       "896    11\n",
       "897     7\n",
       "Name: home_H, Length: 47057, dtype: int64"
      ]
     },
     "execution_count": 278,
     "metadata": {},
     "output_type": "execute_result"
    }
   ],
   "source": [
    "df['home_H']"
   ]
  },
  {
   "cell_type": "code",
   "execution_count": 274,
   "id": "f9b9a79f",
   "metadata": {},
   "outputs": [
    {
     "data": {
      "text/html": [
       "<div>\n",
       "<style scoped>\n",
       "    .dataframe tbody tr th:only-of-type {\n",
       "        vertical-align: middle;\n",
       "    }\n",
       "\n",
       "    .dataframe tbody tr th {\n",
       "        vertical-align: top;\n",
       "    }\n",
       "\n",
       "    .dataframe thead th {\n",
       "        text-align: right;\n",
       "    }\n",
       "</style>\n",
       "<table border=\"1\" class=\"dataframe\">\n",
       "  <thead>\n",
       "    <tr style=\"text-align: right;\">\n",
       "      <th></th>\n",
       "      <th>log5</th>\n",
       "      <th>pythag</th>\n",
       "      <th>era_diff</th>\n",
       "      <th>home_won</th>\n",
       "    </tr>\n",
       "  </thead>\n",
       "  <tbody>\n",
       "    <tr>\n",
       "      <th>log5</th>\n",
       "      <td>1.000000</td>\n",
       "      <td>0.876045</td>\n",
       "      <td>-0.674564</td>\n",
       "      <td>0.112530</td>\n",
       "    </tr>\n",
       "    <tr>\n",
       "      <th>pythag</th>\n",
       "      <td>0.876045</td>\n",
       "      <td>1.000000</td>\n",
       "      <td>-0.738762</td>\n",
       "      <td>0.120075</td>\n",
       "    </tr>\n",
       "    <tr>\n",
       "      <th>era_diff</th>\n",
       "      <td>-0.674564</td>\n",
       "      <td>-0.738762</td>\n",
       "      <td>1.000000</td>\n",
       "      <td>-0.100312</td>\n",
       "    </tr>\n",
       "    <tr>\n",
       "      <th>home_won</th>\n",
       "      <td>0.112530</td>\n",
       "      <td>0.120075</td>\n",
       "      <td>-0.100312</td>\n",
       "      <td>1.000000</td>\n",
       "    </tr>\n",
       "  </tbody>\n",
       "</table>\n",
       "</div>"
      ],
      "text/plain": [
       "              log5    pythag  era_diff  home_won\n",
       "log5      1.000000  0.876045 -0.674564  0.112530\n",
       "pythag    0.876045  1.000000 -0.738762  0.120075\n",
       "era_diff -0.674564 -0.738762  1.000000 -0.100312\n",
       "home_won  0.112530  0.120075 -0.100312  1.000000"
      ]
     },
     "execution_count": 274,
     "metadata": {},
     "output_type": "execute_result"
    }
   ],
   "source": [
    "games[features + ['home_won']].corr()"
   ]
  },
  {
   "cell_type": "code",
   "execution_count": 355,
   "id": "b72477bd",
   "metadata": {},
   "outputs": [
    {
     "data": {
      "text/plain": [
       "<AxesSubplot:title={'center':'Cumulative accuracy of different models after April, when they are more stable'}, xlabel='date'>"
      ]
     },
     "execution_count": 355,
     "metadata": {},
     "output_type": "execute_result"
    },
    {
     "data": {
      "image/png": "[encoded data removed]",
      "text/plain": [
       "<Figure size 432x288 with 1 Axes>"
      ]
     },
     "metadata": {
      "needs_background": "light"
     },
     "output_type": "display_data"
    }
   ],
   "source": [
    "games['pred_score_home'] = np.sqrt(games['home_team_avg_score_for'] * games['away_team_avg_score_against'])\n",
    "games['pred_score_away'] = np.sqrt(games['away_team_avg_score_for'] * games['home_team_avg_score_against'])\n",
    "games['pred_score_diff'] = games['pred_score_home'] - games['pred_score_away']\n",
    "games['pred_score_diff_std'] = np.sqrt(games['home_team_avg_score_for'].var() + games['away_team_avg_score_for'].var())\n",
    "games['home_win_prob1'] = (games['pred_score_diff'] / games['pred_score_diff_std']).apply(norm.cdf)\n",
    "games['home_win_prob2'] = df.loc[df['year'] == 2010, 'home_won'].value_counts(normalize=True)[True]\n",
    "games['pred1_correct'] = (games['home_win_prob1'] > .5) == games['home_won']\n",
    "games['pred2_correct'] = ((games['home_win_prob1'] + games['home_win_prob2']) / 2 > .5) == games['home_won']\n",
    "\n",
    "games[['pred1_accuracy', 'pred2_accuracy', 'choose_home_accuracy']] = games[['pred1_correct', 'pred2_correct', 'home_won']].reset_index(drop=True).cumsum().divide(games.index.values, axis='rows')\n",
    "games.loc[:, ['date', 'pred1_accuracy', 'pred2_accuracy', 'choose_home_accuracy']].plot(x='date', title='Cumulative accuracy of different models')"
   ]
  }
 ],
 "metadata": {
  "kernelspec": {
   "display_name": "Python 3 (ipykernel)",
   "language": "python",
   "name": "python3"
  },
  "language_info": {
   "codemirror_mode": {
    "name": "ipython",
    "version": 3
   },
   "file_extension": ".py",
   "mimetype": "text/x-python",
   "name": "python",
   "nbconvert_exporter": "python",
   "pygments_lexer": "ipython3",
   "version": "3.8.10"
  }
 },
 "nbformat": 4,
 "nbformat_minor": 5
}
