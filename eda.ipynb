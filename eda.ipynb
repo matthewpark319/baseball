{
 "cells": [
  {
   "cell_type": "code",
   "execution_count": 31,
   "id": "212f5214",
   "metadata": {},
   "outputs": [],
   "source": [
    "import itertools\n",
    "import os\n",
    "\n",
    "import numpy as np\n",
    "import pandas as pd\n",
    "\n",
    "# column descriptions from https://www.retrosheet.org/gamelogs/glfields.txt\n",
    "offensive_stats = ['AB', 'H', '2B', '3B', 'HR', 'RBI', 'SAC', 'SAC_FLY', 'HBP', 'BB', 'IBB', 'K', 'SB', 'CS', 'GDP', 'CI', 'LOB']\n",
    "pitching_stats = ['pitchers_used', 'indv_earned_runs', 'team_earned_runs', 'wild_pitches', 'balks']\n",
    "defensive_stats = ['putouts', 'assists', 'errors', 'passed_balls', 'double_plays', 'triple_plays']\n",
    "roles = ['home_plate_ump', '1B_ump', '2B_ump', '3B_ump', 'LF_ump', 'RF_ump', 'away_manager', 'home_manager',\n",
    "         'winning_pitcher', 'losing_pitcher', 'saving_pitcher', 'winning_rbi_batter', 'away_starting_pitcher', 'home_starting_pitcher']\n",
    "columns = [\n",
    "    'date',\n",
    "    'series_game_num',\n",
    "    'dow',\n",
    "    'away_team',\n",
    "    'away_team_league',\n",
    "    'away_team_game_num',\n",
    "    'home_team',\n",
    "    'home_team_league',\n",
    "    'home_team_game_num',\n",
    "    'score_away',\n",
    "    'score_home',\n",
    "    'count_outs',\n",
    "    'day_or_night',\n",
    "    'makeup_info',\n",
    "    'forfeit_info',\n",
    "    'protest_info',\n",
    "    'park_id',\n",
    "    'attendance',\n",
    "    'length_minutes',\n",
    "    'away_line_score',\n",
    "    'home_line_score',\n",
    "    *['away_' + offensive_stat for offensive_stat in offensive_stats],\n",
    "    *['away_' + pitching_stat for pitching_stat in pitching_stats],\n",
    "    *['away_' + defensive_stat for defensive_stat in defensive_stats],\n",
    "    *['home_' + offensive_stat for offensive_stat in offensive_stats],\n",
    "    *['home_' + pitching_stat for pitching_stat in pitching_stats],\n",
    "    *['home_' + defensive_stat for defensive_stat in defensive_stats],\n",
    "    *list(itertools.chain.from_iterable([[role + '_id', role + '_name'] for role in roles])),\n",
    "    *list(itertools.chain.from_iterable([[f'away_lineup{i}_id', f'away_lineup{i}_name', f'away_lineup{i}_pos'] for i in range(1, 10)])),\n",
    "    *list(itertools.chain.from_iterable([[f'home_lineup{i}_id', f'home_lineup{i}_name', f'home_lineup{i}_pos'] for i in range(1, 10)])),\n",
    "    'misc',\n",
    "    'acquisition_info'\n",
    "]\n",
    "\n",
    "def file_to_df(fn):\n",
    "    df = pd.read_csv(fn, header=None, names=columns)\n",
    "    df['date'] = pd.to_datetime(df['date'], format='%Y%m%d')\n",
    "    df['year'] = df['date'].dt.year\n",
    "    df['home_won'] = df['score_home'] > df['score_away']\n",
    "    return df\n",
    "\n",
    "def opposite_side(side):\n",
    "    return 'home' if side == 'away' else 'away'\n",
    "\n",
    "dfs = []\n",
    "for fn in os.listdir('data'):\n",
    "    year_df = file_to_df(f'data/{fn}')\n",
    "    dfs.append(year_df)\n",
    "    \n",
    "df = pd.concat(dfs).sort_values(['date', 'home_team_game_num'])"
   ]
  },
  {
   "cell_type": "code",
   "execution_count": 178,
   "id": "b67b1a80",
   "metadata": {},
   "outputs": [],
   "source": [
    "df2010 = df[df['year'] == 2010]\n",
    "\n",
    "side_games_dfs = []\n",
    "for side in ['home', 'away']:\n",
    "    side_games = df2010.copy()\n",
    "    side_games['won'] = df2010['home_won'] if side == 'home' else ~df2010['home_won']\n",
    "    side_games['team'] = df2010[f'{side}_team']\n",
    "    side_games['game_num'] = df2010[f'{side}_team_game_num'] + 1 # win pct = pct before game_num, to avoid lookahead bias\n",
    "    side_games['score_for'] = df2010[f'score_{side}']\n",
    "    side_games['score_against'] = df2010[f'score_{opposite_side(side)}']\n",
    "    side_games_dfs.append(side_games)\n",
    "    \n",
    "team_games = pd.concat(side_games_dfs).sort_values(['team', 'game_num'])\n",
    "\n",
    "tmp = team_games.pivot(columns='team', values='won', index='game_num').cumsum()\n",
    "team_wins = tmp.divide(tmp.index.values, axis='rows').unstack().rename('win_pct')\n",
    "team_avg_score_for = team_games.pivot(columns='team', values='score_for', index='game_num').expanding().mean().unstack().rename('avg_score_for')\n",
    "team_avg_score_against = team_games.pivot(columns='team', values='score_against', index='game_num').expanding().mean().unstack().rename('avg_score_against')\n",
    "team_stats = pd.concat([team_wins, team_avg_score_for, team_avg_score_against], axis='columns').reset_index()"
   ]
  },
  {
   "cell_type": "code",
   "execution_count": 228,
   "id": "a9376362",
   "metadata": {},
   "outputs": [],
   "source": [
    "tmp = pd.merge(\n",
    "    df2010[['date', 'home_team', 'away_team', 'home_team_game_num', 'away_team_game_num', 'home_won']],\n",
    "    team_stats.rename(columns={col: 'home_team' if col == 'team' else f'home_team_{col}' for col in team_stats.columns}),\n",
    "    on=['home_team', 'home_team_game_num']\n",
    ")\n",
    "games = pd.merge(\n",
    "    tmp,\n",
    "    team_stats.rename(columns={col: 'away_team' if col == 'team' else f'away_team_{col}' for col in team_stats.columns}),\n",
    "    on=['away_team', 'away_team_game_num']\n",
    ")\n",
    "\n",
    "games['pred_score_home'] = np.sqrt(games['home_team_avg_score_for'] * games['away_team_avg_score_against'])\n",
    "games['pred_score_away'] = np.sqrt(games['away_team_avg_score_for'] * games['home_team_avg_score_against'])\n",
    "games['pred_score_diff'] = games['pred_score_home'] - games['pred_score_away']\n",
    "games['pred_score_diff_std'] = np.sqrt(games['home_team_avg_score_for'].var() + games['away_team_avg_score_for'].var())\n",
    "games['home_win_prob1'] = (games['pred_score_diff'] / games['pred_score_diff_std']).apply(norm.cdf)\n",
    "games['home_win_prob2'] = 0.558824 # % that home team wins\n",
    "games['pred1_correct'] = (games['home_win_prob1'] > .5) == games['home_won']\n",
    "games['pred2_correct'] = ((games['home_win_prob1'] + games['home_win_prob2']) / 2 > .5) == games['home_won']"
   ]
  },
  {
   "cell_type": "code",
   "execution_count": 239,
   "id": "9351e7f3",
   "metadata": {},
   "outputs": [
    {
     "data": {
      "text/plain": [
       "<AxesSubplot:>"
      ]
     },
     "execution_count": 239,
     "metadata": {},
     "output_type": "execute_result"
    },
    {
     "data": {
      "image/png": "[encoded data removed]",
      "text/plain": [
       "<Figure size 432x288 with 1 Axes>"
      ]
     },
     "metadata": {
      "needs_background": "light"
     },
     "output_type": "display_data"
    }
   ],
   "source": []
  },
  {
   "cell_type": "code",
   "execution_count": 246,
   "id": "8160ce65",
   "metadata": {},
   "outputs": [
    {
     "data": {
      "text/plain": [
       "<matplotlib.legend.Legend at 0x7f187646ef70>"
      ]
     },
     "execution_count": 246,
     "metadata": {},
     "output_type": "execute_result"
    },
    {
     "data": {
      "image/png": "[encoded data removed]",
      "text/plain": [
       "<Figure size 432x288 with 1 Axes>"
      ]
     },
     "metadata": {
      "needs_background": "light"
     },
     "output_type": "display_data"
    }
   ],
   "source": [
    "(games['home_won'].cumsum() / games.index.values).plot(label='hello')\n",
    "(games['pred2_correct'].cumsum() / games.index.values).plot(label='Choose home team')\n",
    "import matplotlib.pyplot as plt\n",
    "plt.legend()"
   ]
  }
 ],
 "metadata": {
  "kernelspec": {
   "display_name": "Python 3 (ipykernel)",
   "language": "python",
   "name": "python3"
  },
  "language_info": {
   "codemirror_mode": {
    "name": "ipython",
    "version": 3
   },
   "file_extension": ".py",
   "mimetype": "text/x-python",
   "name": "python",
   "nbconvert_exporter": "python",
   "pygments_lexer": "ipython3",
   "version": "3.8.10"
  }
 },
 "nbformat": 4,
 "nbformat_minor": 5
}
